{
 "cells": [
  {
   "cell_type": "markdown",
   "id": "618ef702",
   "metadata": {},
   "source": [
    "## Import Libraries \n",
    "- Seaborn automatically installs these libraries \n",
    "- *numpy*\n",
    "- *Scipy*\n",
    "- *Pandas*\n",
    "- *Matplotlib*"
   ]
  },
  {
   "cell_type": "code",
   "execution_count": null,
   "id": "9f7c0f0a",
   "metadata": {},
   "outputs": [],
   "source": [
    "# Import Libraries \n",
    "import seaborn as sns\n",
    "import matplot.pyplot as plt\n",
    "\n",
    "#Load dataset \n",
    "phool = sns.load_dataset(\"iris\")\n",
    "phool\n",
    "\n",
    "#Draw a line plot\n",
    "sns.lineploti(x=\"\", y=\"\", data=phool1)\n",
    "plt.show()"
   ]
  }
 ],
 "metadata": {
  "kernelspec": {
   "display_name": "Python 3 (ipykernel)",
   "language": "python",
   "name": "python3"
  },
  "language_info": {
   "codemirror_mode": {
    "name": "ipython",
    "version": 3
   },
   "file_extension": ".py",
   "mimetype": "text/x-python",
   "name": "python",
   "nbconvert_exporter": "python",
   "pygments_lexer": "ipython3",
   "version": "3.10.9"
  }
 },
 "nbformat": 4,
 "nbformat_minor": 5
}
