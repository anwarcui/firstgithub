{
 "cells": [
  {
   "cell_type": "markdown",
   "id": "859110f0",
   "metadata": {},
   "source": [
    "# - Indexing #"
   ]
  },
  {
   "cell_type": "code",
   "execution_count": 3,
   "id": "b78e0440",
   "metadata": {},
   "outputs": [],
   "source": [
    "# Make a string \n",
    "a ='Samosa Pakro'"
   ]
  },
  {
   "cell_type": "code",
   "execution_count": 4,
   "id": "283354ab",
   "metadata": {},
   "outputs": [
    {
     "data": {
      "text/plain": [
       "'Samosa Pakro'"
      ]
     },
     "execution_count": 4,
     "metadata": {},
     "output_type": "execute_result"
    }
   ],
   "source": [
    "a"
   ]
  },
  {
   "cell_type": "code",
   "execution_count": 5,
   "id": "a889e94a",
   "metadata": {},
   "outputs": [
    {
     "data": {
      "text/plain": [
       "'S'"
      ]
     },
     "execution_count": 5,
     "metadata": {},
     "output_type": "execute_result"
    }
   ],
   "source": [
    "a[0]"
   ]
  },
  {
   "cell_type": "code",
   "execution_count": 6,
   "id": "842d379a",
   "metadata": {},
   "outputs": [
    {
     "data": {
      "text/plain": [
       "'P'"
      ]
     },
     "execution_count": 6,
     "metadata": {},
     "output_type": "execute_result"
    }
   ],
   "source": [
    "a[7]"
   ]
  },
  {
   "cell_type": "code",
   "execution_count": 7,
   "id": "b5695a3d",
   "metadata": {},
   "outputs": [
    {
     "data": {
      "text/plain": [
       "' '"
      ]
     },
     "execution_count": 7,
     "metadata": {},
     "output_type": "execute_result"
    }
   ],
   "source": [
    "a[6]"
   ]
  },
  {
   "cell_type": "markdown",
   "id": "8f02f67d",
   "metadata": {},
   "source": [
    "### Length of Indexes #"
   ]
  },
  {
   "cell_type": "code",
   "execution_count": 10,
   "id": "aefcff91",
   "metadata": {},
   "outputs": [
    {
     "data": {
      "text/plain": [
       "12"
      ]
     },
     "execution_count": 10,
     "metadata": {},
     "output_type": "execute_result"
    }
   ],
   "source": [
    "len(a)"
   ]
  },
  {
   "cell_type": "code",
   "execution_count": 13,
   "id": "a2ab478f",
   "metadata": {},
   "outputs": [
    {
     "data": {
      "text/plain": [
       "'Samosa'"
      ]
     },
     "execution_count": 13,
     "metadata": {},
     "output_type": "execute_result"
    }
   ],
   "source": [
    "a[0:6]"
   ]
  },
  {
   "cell_type": "code",
   "execution_count": 14,
   "id": "c16fe25c",
   "metadata": {},
   "outputs": [
    {
     "data": {
      "text/plain": [
       "'Samosa Pakro'"
      ]
     },
     "execution_count": 14,
     "metadata": {},
     "output_type": "execute_result"
    }
   ],
   "source": [
    "a[0:13]"
   ]
  },
  {
   "cell_type": "code",
   "execution_count": 15,
   "id": "e4f1f6c2",
   "metadata": {},
   "outputs": [
    {
     "data": {
      "text/plain": [
       "' '"
      ]
     },
     "execution_count": 15,
     "metadata": {},
     "output_type": "execute_result"
    }
   ],
   "source": [
    "a[-6]"
   ]
  },
  {
   "cell_type": "code",
   "execution_count": 16,
   "id": "d3b25dd7",
   "metadata": {},
   "outputs": [
    {
     "data": {
      "text/plain": [
       "'P'"
      ]
     },
     "execution_count": 16,
     "metadata": {},
     "output_type": "execute_result"
    }
   ],
   "source": [
    "a[-5]"
   ]
  },
  {
   "cell_type": "code",
   "execution_count": 17,
   "id": "8d96dc01",
   "metadata": {},
   "outputs": [
    {
     "data": {
      "text/plain": [
       "' Pakr'"
      ]
     },
     "execution_count": 17,
     "metadata": {},
     "output_type": "execute_result"
    }
   ],
   "source": [
    "a[-6:-1]"
   ]
  },
  {
   "cell_type": "code",
   "execution_count": 18,
   "id": "f613d89b",
   "metadata": {},
   "outputs": [
    {
     "data": {
      "text/plain": [
       "''"
      ]
     },
     "execution_count": 18,
     "metadata": {},
     "output_type": "execute_result"
    }
   ],
   "source": [
    "a[-6:-0]"
   ]
  },
  {
   "cell_type": "code",
   "execution_count": 19,
   "id": "45e01ff6",
   "metadata": {},
   "outputs": [
    {
     "data": {
      "text/plain": [
       "' Pakro'"
      ]
     },
     "execution_count": 19,
     "metadata": {},
     "output_type": "execute_result"
    }
   ],
   "source": [
    "a[-6:13]"
   ]
  },
  {
   "cell_type": "code",
   "execution_count": 20,
   "id": "8b797ff8",
   "metadata": {},
   "outputs": [],
   "source": [
    "food = \"beryani\""
   ]
  },
  {
   "cell_type": "code",
   "execution_count": 21,
   "id": "3452f9cc",
   "metadata": {},
   "outputs": [
    {
     "data": {
      "text/plain": [
       "'Beryani'"
      ]
     },
     "execution_count": 21,
     "metadata": {},
     "output_type": "execute_result"
    }
   ],
   "source": [
    "food"
   ]
  },
  {
   "cell_type": "markdown",
   "id": "a4875356",
   "metadata": {},
   "source": [
    "### String Methods "
   ]
  },
  {
   "cell_type": "code",
   "execution_count": 22,
   "id": "d6b8c9e4",
   "metadata": {},
   "outputs": [
    {
     "data": {
      "text/plain": [
       "7"
      ]
     },
     "execution_count": 22,
     "metadata": {},
     "output_type": "execute_result"
    }
   ],
   "source": [
    "len(food)"
   ]
  },
  {
   "cell_type": "code",
   "execution_count": 24,
   "id": "cb41a5d8",
   "metadata": {},
   "outputs": [
    {
     "data": {
      "text/plain": [
       "'Beryani'"
      ]
     },
     "execution_count": 24,
     "metadata": {},
     "output_type": "execute_result"
    }
   ],
   "source": [
    "food.capitalize()"
   ]
  },
  {
   "cell_type": "code",
   "execution_count": 25,
   "id": "b3c37e9b",
   "metadata": {},
   "outputs": [
    {
     "data": {
      "text/plain": [
       "'BERYANI'"
      ]
     },
     "execution_count": 25,
     "metadata": {},
     "output_type": "execute_result"
    }
   ],
   "source": [
    "food.upper()"
   ]
  },
  {
   "cell_type": "code",
   "execution_count": 26,
   "id": "044edf0f",
   "metadata": {},
   "outputs": [
    {
     "data": {
      "text/plain": [
       "'beryani'"
      ]
     },
     "execution_count": 26,
     "metadata": {},
     "output_type": "execute_result"
    }
   ],
   "source": [
    "food.lower()"
   ]
  },
  {
   "cell_type": "code",
   "execution_count": 27,
   "id": "7505e14c",
   "metadata": {},
   "outputs": [
    {
     "data": {
      "text/plain": [
       "'Sheryani'"
      ]
     },
     "execution_count": 27,
     "metadata": {},
     "output_type": "execute_result"
    }
   ],
   "source": [
    "food.replace('B', 'Sh')"
   ]
  },
  {
   "cell_type": "markdown",
   "id": "b4924464",
   "metadata": {},
   "source": [
    "### Counting of spacific alphabet in a string "
   ]
  },
  {
   "cell_type": "code",
   "execution_count": 28,
   "id": "dc704c48",
   "metadata": {},
   "outputs": [
    {
     "data": {
      "text/plain": [
       "'Training with Anwar Ali with Shumaila'"
      ]
     },
     "execution_count": 28,
     "metadata": {},
     "output_type": "execute_result"
    }
   ],
   "source": [
    "name = \"Training with Anwar Ali with Shumaila\"\n",
    "name"
   ]
  },
  {
   "cell_type": "code",
   "execution_count": 30,
   "id": "4e93fec4",
   "metadata": {},
   "outputs": [
    {
     "data": {
      "text/plain": [
       "4"
      ]
     },
     "execution_count": 30,
     "metadata": {},
     "output_type": "execute_result"
    }
   ],
   "source": [
    "name.count('a')"
   ]
  },
  {
   "cell_type": "markdown",
   "id": "d4a11906",
   "metadata": {},
   "source": [
    "### Finding an index number in a string "
   ]
  },
  {
   "cell_type": "code",
   "execution_count": 31,
   "id": "94c9b002",
   "metadata": {},
   "outputs": [
    {
     "data": {
      "text/plain": [
       "'Training with Anwar Ali with Shumaila'"
      ]
     },
     "execution_count": 31,
     "metadata": {},
     "output_type": "execute_result"
    }
   ],
   "source": [
    "name = \"Training with Anwar Ali with Shumaila\"\n",
    "name"
   ]
  },
  {
   "cell_type": "code",
   "execution_count": 32,
   "id": "f103e39c",
   "metadata": {},
   "outputs": [
    {
     "data": {
      "text/plain": [
       "0"
      ]
     },
     "execution_count": 32,
     "metadata": {},
     "output_type": "execute_result"
    }
   ],
   "source": [
    "name.find('T')"
   ]
  },
  {
   "cell_type": "code",
   "execution_count": 33,
   "id": "2ec1c682",
   "metadata": {},
   "outputs": [
    {
     "data": {
      "text/plain": [
       "29"
      ]
     },
     "execution_count": 33,
     "metadata": {},
     "output_type": "execute_result"
    }
   ],
   "source": [
    "name.find('S')"
   ]
  },
  {
   "cell_type": "markdown",
   "id": "72e6cb2e",
   "metadata": {},
   "source": [
    "### How to split a string "
   ]
  },
  {
   "cell_type": "code",
   "execution_count": 36,
   "id": "d13c2a93",
   "metadata": {},
   "outputs": [
    {
     "data": {
      "text/plain": [
       "'I Love Beryanii, Pakora, Samosa, Kharhayee'"
      ]
     },
     "execution_count": 36,
     "metadata": {},
     "output_type": "execute_result"
    }
   ],
   "source": [
    "food = \"I Love Beryanii, Pakora, Samosa, Kharhayee\"\n",
    "food"
   ]
  },
  {
   "cell_type": "code",
   "execution_count": 38,
   "id": "9908897e",
   "metadata": {},
   "outputs": [
    {
     "data": {
      "text/plain": [
       "['I Love Beryanii', ' Pakora', ' Samosa', ' Kharhayee']"
      ]
     },
     "execution_count": 38,
     "metadata": {},
     "output_type": "execute_result"
    }
   ],
   "source": [
    "food.split(',')"
   ]
  },
  {
   "cell_type": "markdown",
   "id": "1485a542",
   "metadata": {},
   "source": [
    "# Basics of Data Structure \n",
    "### 1. Tuple \n",
    "### 2. List \n",
    "### 3. Dectionary \n",
    "### 4. Set "
   ]
  },
  {
   "cell_type": "markdown",
   "id": "fa732277",
   "metadata": {},
   "source": [
    "## Tuples:  \n",
    "- Ordered Collection of Elements \n",
    "- Enclosed with () \n",
    "- Different kinds of Elements can be store \n",
    "- Once element are stored you cannot change them "
   ]
  },
  {
   "cell_type": "code",
   "execution_count": 2,
   "id": "4bc5abba",
   "metadata": {},
   "outputs": [
    {
     "data": {
      "text/plain": [
       "(1, 'Python', True, 2.5)"
      ]
     },
     "execution_count": 2,
     "metadata": {},
     "output_type": "execute_result"
    }
   ],
   "source": [
    "tup1 = (1, \"Python\", True, 2.5)\n",
    "tup1"
   ]
  },
  {
   "cell_type": "code",
   "execution_count": 3,
   "id": "2d6e9097",
   "metadata": {},
   "outputs": [
    {
     "data": {
      "text/plain": [
       "True"
      ]
     },
     "execution_count": 3,
     "metadata": {},
     "output_type": "execute_result"
    }
   ],
   "source": [
    "tup1[2]"
   ]
  },
  {
   "cell_type": "code",
   "execution_count": 24,
   "id": "08a1e782",
   "metadata": {},
   "outputs": [
    {
     "data": {
      "text/plain": [
       "tuple"
      ]
     },
     "execution_count": 24,
     "metadata": {},
     "output_type": "execute_result"
    }
   ],
   "source": [
    "type(tup1)"
   ]
  },
  {
   "cell_type": "code",
   "execution_count": 6,
   "id": "f54e2b59",
   "metadata": {},
   "outputs": [
    {
     "data": {
      "text/plain": [
       "2.5"
      ]
     },
     "execution_count": 6,
     "metadata": {},
     "output_type": "execute_result"
    }
   ],
   "source": [
    "tup1[3]"
   ]
  },
  {
   "cell_type": "code",
   "execution_count": 7,
   "id": "343d49b9",
   "metadata": {},
   "outputs": [
    {
     "data": {
      "text/plain": [
       "(1, 'Python', True, 2.5)"
      ]
     },
     "execution_count": 7,
     "metadata": {},
     "output_type": "execute_result"
    }
   ],
   "source": [
    "tup1[0:4]"
   ]
  },
  {
   "cell_type": "code",
   "execution_count": 8,
   "id": "2ca1c7d2",
   "metadata": {},
   "outputs": [
    {
     "data": {
      "text/plain": [
       "(1, 'Python', True, 2.5)"
      ]
     },
     "execution_count": 8,
     "metadata": {},
     "output_type": "execute_result"
    }
   ],
   "source": [
    "tup1[0:6]"
   ]
  },
  {
   "cell_type": "code",
   "execution_count": 9,
   "id": "08e56673",
   "metadata": {},
   "outputs": [
    {
     "data": {
      "text/plain": [
       "(1, 'Python')"
      ]
     },
     "execution_count": 9,
     "metadata": {},
     "output_type": "execute_result"
    }
   ],
   "source": [
    "tup1[0:2]"
   ]
  },
  {
   "cell_type": "code",
   "execution_count": 10,
   "id": "d6a98c41",
   "metadata": {},
   "outputs": [
    {
     "data": {
      "text/plain": [
       "4"
      ]
     },
     "execution_count": 10,
     "metadata": {},
     "output_type": "execute_result"
    }
   ],
   "source": [
    "#Length of Tuple \n",
    "len(tup1)"
   ]
  },
  {
   "cell_type": "code",
   "execution_count": 11,
   "id": "1a280906",
   "metadata": {},
   "outputs": [
    {
     "data": {
      "text/plain": [
       "(2, 'C++', False, 3.5)"
      ]
     },
     "execution_count": 11,
     "metadata": {},
     "output_type": "execute_result"
    }
   ],
   "source": [
    "tup2 = (2, \"C++\", False, 3.5)\n",
    "tup2"
   ]
  },
  {
   "cell_type": "code",
   "execution_count": 12,
   "id": "516a0909",
   "metadata": {},
   "outputs": [
    {
     "data": {
      "text/plain": [
       "(1, 'Python', True, 2.5, 2, 'C++', False, 3.5)"
      ]
     },
     "execution_count": 12,
     "metadata": {},
     "output_type": "execute_result"
    }
   ],
   "source": [
    "# Concatitnation of two tuples \n",
    "tup1 + tup2"
   ]
  },
  {
   "cell_type": "code",
   "execution_count": 13,
   "id": "d7c6e7ba",
   "metadata": {},
   "outputs": [
    {
     "data": {
      "text/plain": [
       "(1, 'Python', True, 2.5, 2, 'C++', False, 3.5)"
      ]
     },
     "execution_count": 13,
     "metadata": {},
     "output_type": "execute_result"
    }
   ],
   "source": [
    "tup3 = tup1 + tup2\n",
    "tup3"
   ]
  },
  {
   "cell_type": "code",
   "execution_count": 14,
   "id": "58a92245",
   "metadata": {},
   "outputs": [
    {
     "data": {
      "text/plain": [
       "(1, 'Python', True, 2.5, 1, 'Python', True, 2.5, 2, 'C++', False, 3.5)"
      ]
     },
     "execution_count": 14,
     "metadata": {},
     "output_type": "execute_result"
    }
   ],
   "source": [
    "#Concatinate and repeat \n",
    "tup1 * 2 + tup2"
   ]
  },
  {
   "cell_type": "code",
   "execution_count": 15,
   "id": "c4f4243e",
   "metadata": {},
   "outputs": [],
   "source": [
    "tup4 = (27, 59, 67, 89, 76, 54)"
   ]
  },
  {
   "cell_type": "code",
   "execution_count": 16,
   "id": "b1f2b4aa",
   "metadata": {},
   "outputs": [
    {
     "data": {
      "text/plain": [
       "(27, 59, 67, 89, 76, 54)"
      ]
     },
     "execution_count": 16,
     "metadata": {},
     "output_type": "execute_result"
    }
   ],
   "source": [
    "tup4"
   ]
  },
  {
   "cell_type": "code",
   "execution_count": 17,
   "id": "baead20f",
   "metadata": {},
   "outputs": [
    {
     "data": {
      "text/plain": [
       "27"
      ]
     },
     "execution_count": 17,
     "metadata": {},
     "output_type": "execute_result"
    }
   ],
   "source": [
    "#Minimum\n",
    "min(tup4)"
   ]
  },
  {
   "cell_type": "code",
   "execution_count": 18,
   "id": "65ec7d79",
   "metadata": {},
   "outputs": [
    {
     "data": {
      "text/plain": [
       "89"
      ]
     },
     "execution_count": 18,
     "metadata": {},
     "output_type": "execute_result"
    }
   ],
   "source": [
    "#Maximum \n",
    "max(tup4)"
   ]
  },
  {
   "cell_type": "code",
   "execution_count": 19,
   "id": "34ddbe39",
   "metadata": {},
   "outputs": [
    {
     "data": {
      "text/plain": [
       "(27, 59, 67, 89, 76, 54, 27, 59, 67, 89, 76, 54)"
      ]
     },
     "execution_count": 19,
     "metadata": {},
     "output_type": "execute_result"
    }
   ],
   "source": [
    "tup4 * 2"
   ]
  },
  {
   "cell_type": "markdown",
   "id": "70f25e13",
   "metadata": {},
   "source": [
    "---"
   ]
  },
  {
   "cell_type": "markdown",
   "id": "c61898a1",
   "metadata": {},
   "source": [
    "## 2- List \n",
    "- Ordered collection of elements \n",
    "- Enclosed in [ ] square braces / brakects \n",
    "- Mutatable, you can change the values "
   ]
  },
  {
   "cell_type": "code",
   "execution_count": 23,
   "id": "3c981a65",
   "metadata": {},
   "outputs": [
    {
     "data": {
      "text/plain": [
       "[1, 'python', False]"
      ]
     },
     "execution_count": 23,
     "metadata": {},
     "output_type": "execute_result"
    }
   ],
   "source": [
    "list1 = [1, \"python\", False]\n",
    "list1"
   ]
  },
  {
   "cell_type": "code",
   "execution_count": 25,
   "id": "37cc7eed",
   "metadata": {},
   "outputs": [
    {
     "data": {
      "text/plain": [
       "list"
      ]
     },
     "execution_count": 25,
     "metadata": {},
     "output_type": "execute_result"
    }
   ],
   "source": [
    "type(list1)"
   ]
  },
  {
   "cell_type": "code",
   "execution_count": 26,
   "id": "100a9c2e",
   "metadata": {},
   "outputs": [
    {
     "data": {
      "text/plain": [
       "3"
      ]
     },
     "execution_count": 26,
     "metadata": {},
     "output_type": "execute_result"
    }
   ],
   "source": [
    "len(list1)"
   ]
  },
  {
   "cell_type": "code",
   "execution_count": 28,
   "id": "b4a9ee62",
   "metadata": {},
   "outputs": [
    {
     "data": {
      "text/plain": [
       "False"
      ]
     },
     "execution_count": 28,
     "metadata": {},
     "output_type": "execute_result"
    }
   ],
   "source": [
    "list1[2]"
   ]
  },
  {
   "cell_type": "code",
   "execution_count": 29,
   "id": "9d8a087f",
   "metadata": {},
   "outputs": [
    {
     "data": {
      "text/plain": [
       "[3, 5, 'Anwar', 'Ali', 478, 45.8, True]"
      ]
     },
     "execution_count": 29,
     "metadata": {},
     "output_type": "execute_result"
    }
   ],
   "source": [
    "list2 = [3, 5, \"Anwar\", \"Ali\", 478, 45.8, True]\n",
    "list2"
   ]
  },
  {
   "cell_type": "code",
   "execution_count": 30,
   "id": "35a31b3c",
   "metadata": {},
   "outputs": [
    {
     "data": {
      "text/plain": [
       "[1, 'python', False, 3, 5, 'Anwar', 'Ali', 478, 45.8, True]"
      ]
     },
     "execution_count": 30,
     "metadata": {},
     "output_type": "execute_result"
    }
   ],
   "source": [
    "list1 + list2"
   ]
  },
  {
   "cell_type": "code",
   "execution_count": 31,
   "id": "fd136b65",
   "metadata": {},
   "outputs": [
    {
     "data": {
      "text/plain": [
       "[1, 'python', False, 1, 'python', False]"
      ]
     },
     "execution_count": 31,
     "metadata": {},
     "output_type": "execute_result"
    }
   ],
   "source": [
    "list1 * 2"
   ]
  },
  {
   "cell_type": "code",
   "execution_count": 34,
   "id": "9e3cdf0c",
   "metadata": {},
   "outputs": [
    {
     "data": {
      "text/plain": [
       "[False, 'python', 1]"
      ]
     },
     "execution_count": 34,
     "metadata": {},
     "output_type": "execute_result"
    }
   ],
   "source": [
    "list1.reverse()\n",
    "list1"
   ]
  },
  {
   "cell_type": "code",
   "execution_count": 38,
   "id": "fc99fcde",
   "metadata": {},
   "outputs": [
    {
     "data": {
      "text/plain": [
       "[False, 'python', 1, 'C++ by Anwar', 'C++ by Anwar', 'C++ by Anwar']"
      ]
     },
     "execution_count": 38,
     "metadata": {},
     "output_type": "execute_result"
    }
   ],
   "source": [
    "list1.append(\"C++ by Anwar\")\n",
    "list1"
   ]
  },
  {
   "cell_type": "code",
   "execution_count": null,
   "id": "5442d826",
   "metadata": {},
   "outputs": [],
   "source": [
    "list1.count()\n",
    "# Try yourself "
   ]
  },
  {
   "cell_type": "code",
   "execution_count": 39,
   "id": "60348dd1",
   "metadata": {},
   "outputs": [
    {
     "data": {
      "text/plain": [
       "[23, 45, 76, 2, 5, 1, 54, 32, 45, 43, 34]"
      ]
     },
     "execution_count": 39,
     "metadata": {},
     "output_type": "execute_result"
    }
   ],
   "source": [
    "list3 = [23, 45, 76, 2, 5, 1, 54, 32, 45, 43, 34]\n",
    "list3"
   ]
  },
  {
   "cell_type": "code",
   "execution_count": 40,
   "id": "cafe69f3",
   "metadata": {},
   "outputs": [
    {
     "data": {
      "text/plain": [
       "11"
      ]
     },
     "execution_count": 40,
     "metadata": {},
     "output_type": "execute_result"
    }
   ],
   "source": [
    "len(list3)"
   ]
  },
  {
   "cell_type": "code",
   "execution_count": 42,
   "id": "67ee9df8",
   "metadata": {},
   "outputs": [
    {
     "data": {
      "text/plain": [
       "[1, 2, 5, 23, 32, 34, 43, 45, 45, 54, 76]"
      ]
     },
     "execution_count": 42,
     "metadata": {},
     "output_type": "execute_result"
    }
   ],
   "source": [
    "#Sorting of List \n",
    "list3.sort()\n",
    "list3"
   ]
  },
  {
   "cell_type": "code",
   "execution_count": 43,
   "id": "9dbcd66f",
   "metadata": {},
   "outputs": [
    {
     "data": {
      "text/plain": [
       "[1,\n",
       " 2,\n",
       " 5,\n",
       " 23,\n",
       " 32,\n",
       " 34,\n",
       " 43,\n",
       " 45,\n",
       " 45,\n",
       " 54,\n",
       " 76,\n",
       " 1,\n",
       " 2,\n",
       " 5,\n",
       " 23,\n",
       " 32,\n",
       " 34,\n",
       " 43,\n",
       " 45,\n",
       " 45,\n",
       " 54,\n",
       " 76,\n",
       " 1,\n",
       " 2,\n",
       " 5,\n",
       " 23,\n",
       " 32,\n",
       " 34,\n",
       " 43,\n",
       " 45,\n",
       " 45,\n",
       " 54,\n",
       " 76]"
      ]
     },
     "execution_count": 43,
     "metadata": {},
     "output_type": "execute_result"
    }
   ],
   "source": [
    "list3 * 3"
   ]
  },
  {
   "cell_type": "code",
   "execution_count": 44,
   "id": "f11b43ce",
   "metadata": {},
   "outputs": [
    {
     "data": {
      "text/plain": [
       "[False,\n",
       " 'python',\n",
       " 1,\n",
       " 'C++ by Anwar',\n",
       " 'C++ by Anwar',\n",
       " 'C++ by Anwar',\n",
       " 3,\n",
       " 5,\n",
       " 'Anwar',\n",
       " 'Ali',\n",
       " 478,\n",
       " 45.8,\n",
       " True]"
      ]
     },
     "execution_count": 44,
     "metadata": {},
     "output_type": "execute_result"
    }
   ],
   "source": [
    "list1 + list2"
   ]
  },
  {
   "cell_type": "markdown",
   "id": "f2681325",
   "metadata": {},
   "source": [
    "---"
   ]
  },
  {
   "cell_type": "markdown",
   "id": "4a7679a4",
   "metadata": {},
   "source": [
    "## Dictionaries \n",
    "- An unordered collection of elements \n",
    "- Key and Value \n",
    "- Curly braces or brakets {}\n",
    "- Mutatable Change values "
   ]
  },
  {
   "cell_type": "code",
   "execution_count": 50,
   "id": "a046011f",
   "metadata": {},
   "outputs": [],
   "source": [
    "#Food and their prices \n",
    "food1 = {\"Samusa\": 30, \"Pakora\": 100, \"Raita\": 20, \"Salad\": 50, \"Roll\" :200}"
   ]
  },
  {
   "cell_type": "code",
   "execution_count": 51,
   "id": "ad857945",
   "metadata": {},
   "outputs": [
    {
     "data": {
      "text/plain": [
       "{'Samusa': 30, 'Pakora': 100, 'Raita': 20, 'Salad': 50, 'Roll': 200}"
      ]
     },
     "execution_count": 51,
     "metadata": {},
     "output_type": "execute_result"
    }
   ],
   "source": [
    "food1"
   ]
  },
  {
   "cell_type": "code",
   "execution_count": 52,
   "id": "278c3c54",
   "metadata": {},
   "outputs": [
    {
     "data": {
      "text/plain": [
       "dict"
      ]
     },
     "execution_count": 52,
     "metadata": {},
     "output_type": "execute_result"
    }
   ],
   "source": [
    "type(food1)"
   ]
  },
  {
   "cell_type": "code",
   "execution_count": 55,
   "id": "18abb953",
   "metadata": {},
   "outputs": [
    {
     "data": {
      "text/plain": [
       "dict_keys(['Samusa', 'Pakora', 'Raita', 'Salad', 'Roll'])"
      ]
     },
     "execution_count": 55,
     "metadata": {},
     "output_type": "execute_result"
    }
   ],
   "source": [
    "# Extract data\n",
    "keys1 = food1.keys()\n",
    "keys1"
   ]
  },
  {
   "cell_type": "code",
   "execution_count": 56,
   "id": "40e6428c",
   "metadata": {},
   "outputs": [
    {
     "data": {
      "text/plain": [
       "dict_values([30, 100, 20, 50, 200])"
      ]
     },
     "execution_count": 56,
     "metadata": {},
     "output_type": "execute_result"
    }
   ],
   "source": [
    "value1 = food1.values()\n",
    "value1"
   ]
  },
  {
   "cell_type": "code",
   "execution_count": 58,
   "id": "2c9d32ea",
   "metadata": {},
   "outputs": [
    {
     "data": {
      "text/plain": [
       "{'Samusa': 30,\n",
       " 'Pakora': 100,\n",
       " 'Raita': 20,\n",
       " 'Salad': 50,\n",
       " 'Roll': 200,\n",
       " 'tika': 10,\n",
       " 'tikka': 10}"
      ]
     },
     "execution_count": 58,
     "metadata": {},
     "output_type": "execute_result"
    }
   ],
   "source": [
    "# Adding new element \n",
    "food1[\"tikka\"]=10\n",
    "food1"
   ]
  },
  {
   "cell_type": "code",
   "execution_count": 59,
   "id": "50e078ff",
   "metadata": {},
   "outputs": [
    {
     "data": {
      "text/plain": [
       "{'Samusa': 30,\n",
       " 'Pakora': 100,\n",
       " 'Raita': 20,\n",
       " 'Salad': 50,\n",
       " 'Roll': 200,\n",
       " 'tika': 10,\n",
       " 'tikka': 15}"
      ]
     },
     "execution_count": 59,
     "metadata": {},
     "output_type": "execute_result"
    }
   ],
   "source": [
    "#Update the value\n",
    "food1[\"tikka\"]=15\n",
    "food1"
   ]
  },
  {
   "cell_type": "code",
   "execution_count": 60,
   "id": "865dc535",
   "metadata": {},
   "outputs": [],
   "source": [
    "food2 = {\"choclate\": 34}"
   ]
  },
  {
   "cell_type": "code",
   "execution_count": 61,
   "id": "e57ea7c4",
   "metadata": {},
   "outputs": [],
   "source": [
    "# Concatination on dict\n",
    "food1.update(food2)"
   ]
  },
  {
   "cell_type": "code",
   "execution_count": 62,
   "id": "3077927e",
   "metadata": {},
   "outputs": [
    {
     "data": {
      "text/plain": [
       "{'Samusa': 30,\n",
       " 'Pakora': 100,\n",
       " 'Raita': 20,\n",
       " 'Salad': 50,\n",
       " 'Roll': 200,\n",
       " 'tika': 10,\n",
       " 'tikka': 15,\n",
       " 'choclate': 34}"
      ]
     },
     "execution_count": 62,
     "metadata": {},
     "output_type": "execute_result"
    }
   ],
   "source": [
    "food1"
   ]
  },
  {
   "cell_type": "markdown",
   "id": "65dd4c6f",
   "metadata": {},
   "source": [
    "---"
   ]
  },
  {
   "cell_type": "markdown",
   "id": "50c9dc06",
   "metadata": {},
   "source": [
    "## Set\n",
    "- An unordered unidentified \n",
    "- Curly braces or brakets {}\n",
    "- No Duplicate allowed "
   ]
  },
  {
   "cell_type": "code",
   "execution_count": 63,
   "id": "d5584b01",
   "metadata": {},
   "outputs": [
    {
     "data": {
      "text/plain": [
       "{1, 2.2, 5.2, 'Anwar', 'C++', 'Islamabad'}"
      ]
     },
     "execution_count": 63,
     "metadata": {},
     "output_type": "execute_result"
    }
   ],
   "source": [
    "s1 = {1, 2.2, 5.2, \"Anwar\", \"C++\", \"Islamabad\", True}\n",
    "s1"
   ]
  },
  {
   "cell_type": "code",
   "execution_count": 65,
   "id": "be2c985b",
   "metadata": {},
   "outputs": [
    {
     "data": {
      "text/plain": [
       "{1, 2.2, 5.2, 'Ali', 'Anwar', 'C++', 'Islamabad'}"
      ]
     },
     "execution_count": 65,
     "metadata": {},
     "output_type": "execute_result"
    }
   ],
   "source": [
    "s1.add(\"Ali\")\n",
    "s1"
   ]
  },
  {
   "cell_type": "code",
   "execution_count": 66,
   "id": "cfc37feb",
   "metadata": {},
   "outputs": [
    {
     "data": {
      "text/plain": [
       "{1, 2.2, 5.2, 'Ali', 'Anwar', 'C++', 'Islamabad'}"
      ]
     },
     "execution_count": 66,
     "metadata": {},
     "output_type": "execute_result"
    }
   ],
   "source": [
    "s1.add(\"Ali\")\n",
    "s1"
   ]
  },
  {
   "cell_type": "code",
   "execution_count": 67,
   "id": "0f912dda",
   "metadata": {},
   "outputs": [],
   "source": [
    "s1.remove(5.2)"
   ]
  },
  {
   "cell_type": "code",
   "execution_count": 68,
   "id": "d31c7592",
   "metadata": {},
   "outputs": [
    {
     "data": {
      "text/plain": [
       "{1, 2.2, 'Ali', 'Anwar', 'C++', 'Islamabad'}"
      ]
     },
     "execution_count": 68,
     "metadata": {},
     "output_type": "execute_result"
    }
   ],
   "source": [
    "s1"
   ]
  },
  {
   "cell_type": "code",
   "execution_count": null,
   "id": "465cf629",
   "metadata": {},
   "outputs": [],
   "source": []
  }
 ],
 "metadata": {
  "kernelspec": {
   "display_name": "Python 3 (ipykernel)",
   "language": "python",
   "name": "python3"
  },
  "language_info": {
   "codemirror_mode": {
    "name": "ipython",
    "version": 3
   },
   "file_extension": ".py",
   "mimetype": "text/x-python",
   "name": "python",
   "nbconvert_exporter": "python",
   "pygments_lexer": "ipython3",
   "version": "3.11.1"
  }
 },
 "nbformat": 4,
 "nbformat_minor": 5
}
