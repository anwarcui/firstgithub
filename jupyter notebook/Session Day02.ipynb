{
 "cells": [
  {
   "cell_type": "markdown",
   "id": "dc4f6e1a",
   "metadata": {},
   "source": [
    "### Body mass Index (BMI)\n",
    "- Input weight\n",
    "- Input height\n",
    "- BMI (Ask yourslef your height)\n",
    "- Weight\n",
    "- Calculate BMI \n",
    "- Print BMI\n",
    "- Print My name is \"Anwar\" and my BMI is 33"
   ]
  },
  {
   "cell_type": "markdown",
   "id": "d014e414",
   "metadata": {},
   "source": [
    "- (Weight (kg) / height (m)) * 2 "
   ]
  },
  {
   "cell_type": "code",
   "execution_count": 1,
   "id": "c83050f5",
   "metadata": {
    "scrolled": true
   },
   "outputs": [
    {
     "name": "stdout",
     "output_type": "stream",
     "text": [
      "What is your height in Meter: 1.74\n"
     ]
    }
   ],
   "source": [
    "height = input(\"What is your height in Meter: \")"
   ]
  },
  {
   "cell_type": "code",
   "execution_count": 2,
   "id": "d51087a9",
   "metadata": {},
   "outputs": [],
   "source": [
    "height = float(height)"
   ]
  },
  {
   "cell_type": "code",
   "execution_count": 3,
   "id": "bc7bcb4c",
   "metadata": {
    "scrolled": true
   },
   "outputs": [
    {
     "name": "stdout",
     "output_type": "stream",
     "text": [
      "What is your weight in KG: 50\n"
     ]
    }
   ],
   "source": [
    "weight = input(\"What is your weight in KG: \")"
   ]
  },
  {
   "cell_type": "code",
   "execution_count": 4,
   "id": "6dbf4db3",
   "metadata": {},
   "outputs": [],
   "source": [
    "weight = float(weight)"
   ]
  },
  {
   "cell_type": "markdown",
   "id": "8510c5c7",
   "metadata": {},
   "source": []
  },
  {
   "cell_type": "code",
   "execution_count": 5,
   "id": "97088b92",
   "metadata": {},
   "outputs": [
    {
     "name": "stdout",
     "output_type": "stream",
     "text": [
      "What is your name: Anwar\n"
     ]
    }
   ],
   "source": [
    "name = input(\"What is your name: \")"
   ]
  },
  {
   "cell_type": "code",
   "execution_count": 6,
   "id": "363e3ccf",
   "metadata": {},
   "outputs": [
    {
     "data": {
      "text/plain": [
       "16.514731140177037"
      ]
     },
     "execution_count": 6,
     "metadata": {},
     "output_type": "execute_result"
    }
   ],
   "source": [
    "BMI = weight / height ** 2\n",
    "BMI"
   ]
  },
  {
   "cell_type": "code",
   "execution_count": 10,
   "id": "b07334ee",
   "metadata": {},
   "outputs": [
    {
     "name": "stdout",
     "output_type": "stream",
     "text": [
      "My name is  Anwar and my BMI is  16.514731140177037\n"
     ]
    }
   ],
   "source": [
    "print(\"My name is \", name, \"and my BMI is \", BMI)"
   ]
  },
  {
   "cell_type": "code",
   "execution_count": null,
   "id": "f58941e5",
   "metadata": {},
   "outputs": [],
   "source": []
  }
 ],
 "metadata": {
  "kernelspec": {
   "display_name": "Python 3 (ipykernel)",
   "language": "python",
   "name": "python3"
  },
  "language_info": {
   "codemirror_mode": {
    "name": "ipython",
    "version": 3
   },
   "file_extension": ".py",
   "mimetype": "text/x-python",
   "name": "python",
   "nbconvert_exporter": "python",
   "pygments_lexer": "ipython3",
   "version": "3.11.1"
  }
 },
 "nbformat": 4,
 "nbformat_minor": 5
}
