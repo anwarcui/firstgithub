{
 "cells": [
  {
   "cell_type": "markdown",
   "id": "420e8989",
   "metadata": {},
   "source": [
    "# Python learning with Anwar Ali AnNu\n",
    "## How to use Jupyter Note Book\n",
    "## Basics of Python\n",
    "### **1. Python Program**"
   ]
  },
  {
   "cell_type": "code",
   "execution_count": 1,
   "id": "fbe99d9c",
   "metadata": {},
   "outputs": [
    {
     "name": "stdout",
     "output_type": "stream",
     "text": [
      "11\n",
      "Hello Word\n",
      "We are learning python with Anwar\n"
     ]
    }
   ],
   "source": [
    "print(5+6)\n",
    "print(\"Hello Word\")\n",
    "print(\"We are learning python with Anwar\")"
   ]
  },
  {
   "cell_type": "markdown",
   "id": "13135525",
   "metadata": {},
   "source": [
    "### **2. Operators**"
   ]
  },
  {
   "cell_type": "code",
   "execution_count": 1,
   "id": "da3d8e68",
   "metadata": {},
   "outputs": [
    {
     "name": "stdout",
     "output_type": "stream",
     "text": [
      "5\n",
      "1\n",
      "6\n",
      "3.0\n",
      "3\n",
      "8\n",
      "566.75\n"
     ]
    }
   ],
   "source": [
    "print(2+3)\n",
    "print(3-2)\n",
    "print(2*3)\n",
    "print(6/2)\n",
    "print(6//2)\n",
    "print(2**3)\n",
    "print(3**7/4+5*5-5) "
   ]
  },
  {
   "cell_type": "markdown",
   "id": "fd64b70b",
   "metadata": {},
   "source": [
    "*PEMDAS\n",
    "Parathesis Exponents Multiply Divide Addition Substraction \n",
    "Left to Right Sequence*"
   ]
  },
  {
   "cell_type": "markdown",
   "id": "fa7eed42",
   "metadata": {},
   "source": [
    "### **3. Strings**"
   ]
  },
  {
   "cell_type": "code",
   "execution_count": 3,
   "id": "db8f22b8",
   "metadata": {},
   "outputs": [
    {
     "name": "stdout",
     "output_type": "stream",
     "text": [
      "Hellow World\n",
      "We are learning with Anwar\n",
      "Test for Single quotes\n",
      " test for Single quotes\n",
      " test for Single quotes\n"
     ]
    }
   ],
   "source": [
    "print(\"Hellow World\")\n",
    "print(\"We are learning with Anwar\")\n",
    "print(\"Test for Single quotes\")\n",
    "print(' test for Single quotes')\n",
    "print(''' test for Single quotes''')"
   ]
  },
  {
   "cell_type": "markdown",
   "id": "b848b3d9",
   "metadata": {},
   "source": [
    "### **3. Comments in Python**\n",
    "The shortcut key for comments is **Ctrl+/**"
   ]
  },
  {
   "cell_type": "code",
   "execution_count": 4,
   "id": "d15d8a5c",
   "metadata": {},
   "outputs": [
    {
     "name": "stdout",
     "output_type": "stream",
     "text": [
      "Learn python with Anwar\n"
     ]
    }
   ],
   "source": [
    "print(\"Learn python with Anwar\") # This a String \n",
    "# print(\"Learn python with Anwar\")\n",
    "# print(5+7)"
   ]
  },
  {
   "cell_type": "markdown",
   "id": "e7dff970",
   "metadata": {},
   "source": [
    "### **3. Variables**\n",
    "Rules to assign a variable \n",
    "\n",
    "01. The variables should be letter, number, underscoures \n",
    "\n",
    "02. Don't start with number \n",
    "\n",
    "03. Don't use spaces \n",
    "\n",
    "04. Don't use keywords of python \n",
    "\n",
    "05. Short and descritive \n",
    "\n",
    "06. Case sensitivity (Uppercase, Lowercase, try to use lowercase) "
   ]
  },
  {
   "cell_type": "code",
   "execution_count": 5,
   "id": "1715d85a",
   "metadata": {},
   "outputs": [
    {
     "name": "stdout",
     "output_type": "stream",
     "text": [
      "2\n",
      "Ya Ali Madad (A.S)\n",
      "<class 'int'>\n",
      "<class 'str'>\n",
      "8\n",
      "<class 'int'>\n"
     ]
    }
   ],
   "source": [
    "x=2                                #Numeric Variables /Integer \n",
    "print(x)\n",
    "y=\"Ya Ali Madad (A.S)\"              #String Variables \n",
    "print(y)\n",
    "\n",
    "# Types of vaeiables \n",
    "# type(x)\n",
    "print(type(x))\n",
    "\n",
    "type(y)\n",
    "print(type(y))\n",
    "\n",
    "fruit_basket = 8\n",
    "print(fruit_basket)\n",
    "print(type(fruit_basket))"
   ]
  },
  {
   "cell_type": "code",
   "execution_count": null,
   "id": "074e6c0b",
   "metadata": {},
   "outputs": [],
   "source": []
  }
 ],
 "metadata": {
  "kernelspec": {
   "display_name": "Python 3 (ipykernel)",
   "language": "python",
   "name": "python3"
  },
  "language_info": {
   "codemirror_mode": {
    "name": "ipython",
    "version": 3
   },
   "file_extension": ".py",
   "mimetype": "text/x-python",
   "name": "python",
   "nbconvert_exporter": "python",
   "pygments_lexer": "ipython3",
   "version": "3.11.1"
  }
 },
 "nbformat": 4,
 "nbformat_minor": 5
}
